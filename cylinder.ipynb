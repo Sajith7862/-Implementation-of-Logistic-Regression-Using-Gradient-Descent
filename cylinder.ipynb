{
  "cells": [
    {
      "cell_type": "markdown",
      "metadata": {
        "id": "view-in-github",
        "colab_type": "text"
      },
      "source": [
        "<a href=\"https://colab.research.google.com/github/Sajith7862/-Implementation-of-Logistic-Regression-Using-Gradient-Descent/blob/main/cylinder.ipynb\" target=\"_parent\"><img src=\"https://colab.research.google.com/assets/colab-badge.svg\" alt=\"Open In Colab\"/></a>"
      ]
    },
    {
      "cell_type": "code",
      "execution_count": 1,
      "id": "489b8a60",
      "metadata": {
        "height": 132,
        "colab": {
          "base_uri": "https://localhost:8080/",
          "height": 399
        },
        "id": "489b8a60",
        "outputId": "b647f2a6-9018-442a-ecd7-d1e7440d0f08"
      },
      "outputs": [
        {
          "output_type": "error",
          "ename": "ModuleNotFoundError",
          "evalue": "No module named 'dotenv'",
          "traceback": [
            "\u001b[0;31m---------------------------------------------------------------------------\u001b[0m",
            "\u001b[0;31mModuleNotFoundError\u001b[0m                       Traceback (most recent call last)",
            "\u001b[0;32m<ipython-input-1-ce01c882131e>\u001b[0m in \u001b[0;36m<cell line: 0>\u001b[0;34m()\u001b[0m\n\u001b[1;32m      3\u001b[0m \u001b[0;32mimport\u001b[0m \u001b[0mmath\u001b[0m\u001b[0;34m\u001b[0m\u001b[0;34m\u001b[0m\u001b[0m\n\u001b[1;32m      4\u001b[0m \u001b[0;34m\u001b[0m\u001b[0m\n\u001b[0;32m----> 5\u001b[0;31m \u001b[0;32mfrom\u001b[0m \u001b[0mdotenv\u001b[0m \u001b[0;32mimport\u001b[0m \u001b[0mload_dotenv\u001b[0m\u001b[0;34m,\u001b[0m \u001b[0mfind_dotenv\u001b[0m\u001b[0;34m\u001b[0m\u001b[0;34m\u001b[0m\u001b[0m\n\u001b[0m\u001b[1;32m      6\u001b[0m \u001b[0m_\u001b[0m \u001b[0;34m=\u001b[0m \u001b[0mload_dotenv\u001b[0m\u001b[0;34m(\u001b[0m\u001b[0mfind_dotenv\u001b[0m\u001b[0;34m(\u001b[0m\u001b[0;34m)\u001b[0m\u001b[0;34m)\u001b[0m \u001b[0;31m# read local .env file\u001b[0m\u001b[0;34m\u001b[0m\u001b[0;34m\u001b[0m\u001b[0m\n\u001b[1;32m      7\u001b[0m \u001b[0mopenai\u001b[0m\u001b[0;34m.\u001b[0m\u001b[0mapi_key\u001b[0m \u001b[0;34m=\u001b[0m \u001b[0mos\u001b[0m\u001b[0;34m.\u001b[0m\u001b[0menviron\u001b[0m\u001b[0;34m[\u001b[0m\u001b[0;34m'OPENAI_API_KEY'\u001b[0m\u001b[0;34m]\u001b[0m\u001b[0;34m\u001b[0m\u001b[0;34m\u001b[0m\u001b[0m\n",
            "\u001b[0;31mModuleNotFoundError\u001b[0m: No module named 'dotenv'",
            "",
            "\u001b[0;31m---------------------------------------------------------------------------\u001b[0;32m\nNOTE: If your import is failing due to a missing package, you can\nmanually install dependencies using either !pip or !apt.\n\nTo view examples of installing some common dependencies, click the\n\"Open Examples\" button below.\n\u001b[0;31m---------------------------------------------------------------------------\u001b[0m\n"
          ],
          "errorDetails": {
            "actions": [
              {
                "action": "open_url",
                "actionText": "Open Examples",
                "url": "/notebooks/snippets/importing_libraries.ipynb"
              }
            ]
          }
        }
      ],
      "source": [
        "import os\n",
        "import openai\n",
        "import math\n",
        "\n",
        "from dotenv import load_dotenv, find_dotenv\n",
        "_ = load_dotenv(find_dotenv()) # read local .env file\n",
        "openai.api_key = os.environ['OPENAI_API_KEY']"
      ]
    },
    {
      "cell_type": "code",
      "execution_count": null,
      "id": "e90985f8",
      "metadata": {
        "height": 387,
        "id": "e90985f8"
      },
      "outputs": [],
      "source": [
        "functions = [\n",
        "    {\n",
        "        \"name\": \"calculate_cylinder_volume\",\n",
        "        \"description\": \"Calculate the volume of a cylinder given its radius and height.\",\n",
        "        \"parameters\": {\n",
        "            \"type\": \"object\",\n",
        "            \"properties\": {\n",
        "                \"radius\": {\"type\": \"number\", \"description\": \"Radius of the cylinder's base.\"},\n",
        "                \"height\": {\"type\": \"number\", \"description\": \"Height of the cylinder.\"},\n",
        "            },\n",
        "            \"required\": [\"radius\", \"height\"],\n",
        "        },\n",
        "    }\n",
        "]\n",
        "\n",
        "messages = [\n",
        "    {\n",
        "        \"role\": \"user\",\n",
        "        \"content\": \"What is the volume of a cylinder with radius 5 and height 10?\",\n",
        "    }\n",
        "]\n"
      ]
    },
    {
      "cell_type": "code",
      "execution_count": null,
      "id": "2e3bc16a",
      "metadata": {
        "height": 132,
        "id": "2e3bc16a"
      },
      "outputs": [],
      "source": [
        "def calculate_cylinder_volume(radius, height):\n",
        "    \"\"\"Calculate the volume of a cylinder.\"\"\"\n",
        "    if radius < 0 or height < 0:\n",
        "        return \"Radius and height must be non-negative values.\"\n",
        "    volume = math.pi * (radius ** 2) * height\n",
        "    return round(volume, 2)\n"
      ]
    },
    {
      "cell_type": "code",
      "execution_count": null,
      "id": "0e2497fb",
      "metadata": {
        "height": 132,
        "id": "0e2497fb"
      },
      "outputs": [],
      "source": [
        "response = openai.ChatCompletion.create(\n",
        "    model=\"gpt-3.5-turbo\",\n",
        "    messages=messages,\n",
        "    functions=functions,\n",
        "    function_call=\"auto\",  # Let the model decide when to call the function\n",
        ")\n"
      ]
    },
    {
      "cell_type": "code",
      "execution_count": null,
      "id": "b0fb81c9",
      "metadata": {
        "height": 81,
        "id": "b0fb81c9",
        "outputId": "56c099dc-e255-4f64-b3a2-e86627355120"
      },
      "outputs": [
        {
          "name": "stdout",
          "output_type": "stream",
          "text": [
            "Extracted arguments: {'radius': 5, 'height': 10}\n"
          ]
        }
      ],
      "source": [
        "import json\n",
        "function_args = json.loads(response[\"choices\"][0][\"message\"][\"function_call\"][\"arguments\"])\n",
        "print(\"Extracted arguments:\", function_args)\n"
      ]
    },
    {
      "cell_type": "code",
      "execution_count": null,
      "id": "b8322cf0",
      "metadata": {
        "height": 64,
        "id": "b8322cf0",
        "outputId": "b3d18df2-46be-41d4-b5de-979922858d32"
      },
      "outputs": [
        {
          "name": "stdout",
          "output_type": "stream",
          "text": [
            "Function result: 785.4\n"
          ]
        }
      ],
      "source": [
        "result = calculate_cylinder_volume(**function_args)\n",
        "print(\"Function result:\", result)\n"
      ]
    },
    {
      "cell_type": "code",
      "execution_count": null,
      "id": "0a7b69e6",
      "metadata": {
        "height": 47,
        "id": "0a7b69e6"
      },
      "outputs": [],
      "source": [
        "messages.append({\"role\": \"function\", \"name\": \"calculate_cylinder_volume\", \"content\": str(result)})\n"
      ]
    },
    {
      "cell_type": "code",
      "execution_count": null,
      "id": "649df0b5",
      "metadata": {
        "height": 115,
        "id": "649df0b5",
        "outputId": "2876f88c-9021-4dcd-dbe5-69120b96eb5d"
      },
      "outputs": [
        {
          "name": "stdout",
          "output_type": "stream",
          "text": [
            "The volume of a cylinder can be calculated using the formula V = πr^2h, where r is the radius and h is the height of the cylinder. \n",
            "\n",
            "In this case, the radius is 5 and the height is 10. Plugging these values into the formula:\n",
            "\n",
            "V = π(5)^2(10)\n",
            "V = π(25)(10)\n",
            "V = 785.4\n",
            "\n",
            "Therefore, the volume of a cylinder with a radius of 5 and height of 10 is approximately 785.4 cubic units.\n"
          ]
        }
      ],
      "source": [
        "response = openai.ChatCompletion.create(\n",
        "    model=\"gpt-3.5-turbo\",\n",
        "    messages=messages,\n",
        ")\n",
        "print(response[\"choices\"][0][\"message\"][\"content\"])\n"
      ]
    },
    {
      "cell_type": "code",
      "execution_count": null,
      "id": "dd20f1d7",
      "metadata": {
        "height": 30,
        "id": "dd20f1d7"
      },
      "outputs": [],
      "source": []
    },
    {
      "cell_type": "code",
      "execution_count": null,
      "id": "066e339b",
      "metadata": {
        "height": 30,
        "id": "066e339b"
      },
      "outputs": [],
      "source": []
    }
  ],
  "metadata": {
    "kernelspec": {
      "display_name": "Python 3 (ipykernel)",
      "language": "python",
      "name": "python3"
    },
    "language_info": {
      "codemirror_mode": {
        "name": "ipython",
        "version": 3
      },
      "file_extension": ".py",
      "mimetype": "text/x-python",
      "name": "python",
      "nbconvert_exporter": "python",
      "pygments_lexer": "ipython3",
      "version": "3.9.19"
    },
    "colab": {
      "provenance": [],
      "include_colab_link": true
    }
  },
  "nbformat": 4,
  "nbformat_minor": 5
}